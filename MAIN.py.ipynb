{
 "cells": [
  {
   "cell_type": "code",
   "execution_count": 1,
   "metadata": {},
   "outputs": [],
   "source": [
    "import csv\n",
    "import os"
   ]
  },
  {
   "cell_type": "code",
   "execution_count": 2,
   "metadata": {},
   "outputs": [],
   "source": [
    "#filepath\n",
    "fname= os.path.join(\"/Users/saikondrakunta/Documents/DataBootcamp/MyCopyofRepo/03-Python/python-challenge/Resources\",\" budget_data.csv\")\n"
   ]
  },
  {
   "cell_type": "code",
   "execution_count": 3,
   "metadata": {},
   "outputs": [],
   "source": [
    "with open(fname, 'r') as csvfile:\n",
    "    csvreader =csv.DictReader(csvfile, delimiter= ',')\n",
    "    # variables\n",
    "    total_months = 0\n",
    "    net_total = 0\n",
    "    diff = 0\n",
    "    prof_loss = []\n",
    "    date_list = []\n",
    "    avg_chg = []\n",
    "    \n",
    "    for i in csvreader:\n",
    "        total_months += 1\n",
    "        net_total +=int(i[\"Profit/Losses\"])\n",
    "        prof_loss.append(int(i[\"Profit/Losses\"]))\n",
    "        date_list.append(i[\"Date\"])\n",
    "    \n",
    "    #will loop through the profit_loss list items to get the difference   \n",
    "    #and will create a new list of the diff of second num - first num \n",
    "        i = 1  \n",
    "        while i < len(prof_loss):\n",
    "            diff = prof_loss[i] - prof_loss[i-1]\n",
    "            avg_chg.append(diff)\n",
    "            i +=1\n",
    "    \n",
    "    total_avg_chg = sum(avg_chg)/ len(avg_chg)\n",
    "    greatest_inc = max(avg_chg)\n",
    "    greatest_dec = min(avg_chg)\n",
    "  \n",
    "    #merged the avg_chg list to the date list, however starting at index 1\n",
    "    #for date_list, because the first value of avg_chg was dropped    \n",
    "    merge = zip(date_list[1:], avg_chg)\n",
    "    \n",
    "    for i in merge:\n",
    "        if i[1] == greatest_inc:\n",
    "            INC_date = i[0]\n",
    "        if i[1] == greatest_dec:\n",
    "            DEC_date = i[0]\n",
    "            print(f\"Financail Analysis\")\n",
    "            print(\"-------------------------------------\")\n",
    "            print(f\"Total Months: {total_months}\")\n",
    "            print(f\"Total: ${net_total}\")\n",
    "            print(f\"Average Change: ${round(total_avg_chg,2)}\")\n",
    "            print(f\"Greatest Increase in Profits: {INC_date }, (${greatest_inc})\")\n",
    "            print(f\"Greatest Decrease in Profits: {DEC_date }, (${greatest_dec})\")"
   ]
  },
  {
   "cell_type": "code",
   "execution_count": 4,
   "metadata": {},
   "outputs": [],
   "source": [
    "fanalysis= os.path.join(\"/Users/saikondrakunta/Documents/DataBootcamp/MyCopyofRepo/03-Python/python-challenge/Resources\",\"financial_analysis_txt\")"
   ]
  },
  {
   "cell_type": "code",
   "execution_count": 5,
   "metadata": {},
   "outputs": [
    {
     "ename": "NameError",
     "evalue": "name 'INC_date' is not defined",
     "output_type": "error",
     "traceback": [
      "\u001b[0;31m---------------------------------------------------------------------------\u001b[0m",
      "\u001b[0;31mNameError\u001b[0m                                 Traceback (most recent call last)",
      "\u001b[0;32m<ipython-input-5-c31192cc9f0d>\u001b[0m in \u001b[0;36m<module>\u001b[0;34m\u001b[0m\n\u001b[1;32m      5\u001b[0m     \u001b[0mwf\u001b[0m\u001b[0;34m.\u001b[0m\u001b[0mwrite\u001b[0m\u001b[0;34m(\u001b[0m\u001b[0;34mf\"Total: ${net_total}\\n\"\u001b[0m\u001b[0;34m)\u001b[0m\u001b[0;34m\u001b[0m\u001b[0;34m\u001b[0m\u001b[0m\n\u001b[1;32m      6\u001b[0m     \u001b[0mwf\u001b[0m\u001b[0;34m.\u001b[0m\u001b[0mwrite\u001b[0m\u001b[0;34m(\u001b[0m\u001b[0;34mf\"Average Change: ${round(total_avg_chg,2)}\\n\"\u001b[0m\u001b[0;34m)\u001b[0m\u001b[0;34m\u001b[0m\u001b[0;34m\u001b[0m\u001b[0m\n\u001b[0;32m----> 7\u001b[0;31m     \u001b[0mwf\u001b[0m\u001b[0;34m.\u001b[0m\u001b[0mwrite\u001b[0m\u001b[0;34m(\u001b[0m\u001b[0;34mf\"Greatest Increase in Profits: {INC_date }, (${greatest_inc})\\n\"\u001b[0m\u001b[0;34m)\u001b[0m\u001b[0;34m\u001b[0m\u001b[0;34m\u001b[0m\u001b[0m\n\u001b[0m\u001b[1;32m      8\u001b[0m     \u001b[0mwf\u001b[0m\u001b[0;34m.\u001b[0m\u001b[0mwrite\u001b[0m\u001b[0;34m(\u001b[0m\u001b[0;34mf\"Greatest Decrease in Profits: {DEC_date }, (${greatest_dec})\\n\"\u001b[0m\u001b[0;34m)\u001b[0m\u001b[0;34m\u001b[0m\u001b[0;34m\u001b[0m\u001b[0m\n",
      "\u001b[0;31mNameError\u001b[0m: name 'INC_date' is not defined"
     ]
    }
   ],
   "source": [
    "with open('fanalysis', 'w') as wf:\n",
    "    wf.write(f\"Financail Analysis\\n\")\n",
    "    wf.write(\"-----------------------------------------------------------\\n\")\n",
    "    wf.write(f\"Total Months: {total_months}\\n\")\n",
    "    wf.write(f\"Total: ${net_total}\\n\")\n",
    "    wf.write(f\"Average Change: ${round(total_avg_chg,2)}\\n\")\n",
    "    wf.write(f\"Greatest Increase in Profits: {INC_date }, (${greatest_inc})\\n\")\n",
    "    wf.write(f\"Greatest Decrease in Profits: {DEC_date }, (${greatest_dec})\\n\")"
   ]
  },
  {
   "cell_type": "code",
   "execution_count": null,
   "metadata": {},
   "outputs": [],
   "source": []
  },
  {
   "cell_type": "code",
   "execution_count": null,
   "metadata": {},
   "outputs": [],
   "source": []
  },
  {
   "cell_type": "code",
   "execution_count": null,
   "metadata": {},
   "outputs": [],
   "source": []
  },
  {
   "cell_type": "code",
   "execution_count": null,
   "metadata": {},
   "outputs": [],
   "source": []
  },
  {
   "cell_type": "code",
   "execution_count": null,
   "metadata": {},
   "outputs": [],
   "source": [
    "\n"
   ]
  },
  {
   "cell_type": "code",
   "execution_count": null,
   "metadata": {},
   "outputs": [],
   "source": []
  }
 ],
 "metadata": {
  "kernelspec": {
   "display_name": "Python 3",
   "language": "python",
   "name": "python3"
  },
  "language_info": {
   "codemirror_mode": {
    "name": "ipython",
    "version": 3
   },
   "file_extension": ".py",
   "mimetype": "text/x-python",
   "name": "python",
   "nbconvert_exporter": "python",
   "pygments_lexer": "ipython3",
   "version": "3.7.1"
  }
 },
 "nbformat": 4,
 "nbformat_minor": 2
}
